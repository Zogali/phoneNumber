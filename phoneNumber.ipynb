{
 "cells": [
  {
   "cell_type": "code",
   "execution_count": 1,
   "metadata": {},
   "outputs": [],
   "source": [
    "def asknumber ():\n",
    "    print('Alec would you be an angel and give me your phone number ?')\n",
    "    decision=str(input(\"Are you ok ?(enter yes or no): \"))\n",
    "    if decision ==\"no\":\n",
    "        print('Sad story with quick ending')\n",
    "    else:\n",
    "        num = int(input(\"Please enter it here: \"))\n",
    "        print('Thank you sweetheart')"
   ]
  },
  {
   "cell_type": "code",
   "execution_count": 4,
   "metadata": {},
   "outputs": [
    {
     "name": "stdout",
     "output_type": "stream",
     "text": [
      "Alec would you be a sweet angel and give me your phone number ?\n",
      "Are you ok ?(enter yes or no): no\n",
      "Sad story with quick ending\n"
     ]
    }
   ],
   "source": [
    "asknumber()"
   ]
  },
  {
   "cell_type": "code",
   "execution_count": 5,
   "metadata": {},
   "outputs": [
    {
     "name": "stdout",
     "output_type": "stream",
     "text": [
      "Alec would you be a sweet angel and give me your phone number ?\n",
      "Are you ok ?(enter yes or no): yes\n",
      "Please enter it here: 57689087587\n",
      "Thank you honey\n"
     ]
    }
   ],
   "source": [
    "asknumber()"
   ]
  },
  {
   "cell_type": "code",
   "execution_count": null,
   "metadata": {},
   "outputs": [],
   "source": []
  }
 ],
 "metadata": {
  "kernelspec": {
   "display_name": "Python 3",
   "language": "python",
   "name": "python3"
  },
  "language_info": {
   "codemirror_mode": {
    "name": "ipython",
    "version": 3
   },
   "file_extension": ".py",
   "mimetype": "text/x-python",
   "name": "python",
   "nbconvert_exporter": "python",
   "pygments_lexer": "ipython3",
   "version": "3.7.4"
  }
 },
 "nbformat": 4,
 "nbformat_minor": 2
}
